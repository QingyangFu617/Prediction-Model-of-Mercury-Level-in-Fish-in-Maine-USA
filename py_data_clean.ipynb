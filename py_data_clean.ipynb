{
  "nbformat": 4,
  "nbformat_minor": 0,
  "metadata": {
    "colab": {
      "provenance": []
    },
    "kernelspec": {
      "name": "python3",
      "display_name": "Python 3"
    },
    "language_info": {
      "name": "python"
    }
  },
  "cells": [
    {
      "cell_type": "code",
      "execution_count": 1,
      "metadata": {
        "id": "CdOHs25-j539"
      },
      "outputs": [],
      "source": [
        "import pandas as pd\n",
        "import numpy as np\n"
      ]
    },
    {
      "cell_type": "code",
      "source": [
        "from pandas.io.parsers.readers import read_csv\n",
        "data = read_csv('Assignment2_2023_Data.txt', sep=\" \", header=None)"
      ],
      "metadata": {
        "id": "a2KU114WkHZX"
      },
      "execution_count": 6,
      "outputs": []
    },
    {
      "cell_type": "code",
      "source": [
        "data.head()"
      ],
      "metadata": {
        "colab": {
          "base_uri": "https://localhost:8080/",
          "height": 206
        },
        "id": "FVvEmgTJkbrp",
        "outputId": "cc9f5bfe-fa4e-4be7-a18d-f8f13a8c0014"
      },
      "execution_count": 7,
      "outputs": [
        {
          "output_type": "execute_result",
          "data": {
            "text/plain": [
              "                  0      1   2     3     4     5    6    7      8     9    10  \\\n",
              "0            ALLEN.P  1.080   3   425    83  27.0  3.0  1.0    2.0  0.60  2.8   \n",
              "1        ALLIGATOR.P  0.025   2  1494    47  26.0  2.0  0.0    1.0  0.69  0.8   \n",
              "2   ANASAGUNTICOOK.L  0.570   5   402   568  54.0  2.0  1.0   15.0  0.56  1.1   \n",
              "3  BALCH&STUMP.PONDS  0.770   5   557   704  44.0  2.0  1.0   14.0  0.58  2.7   \n",
              "4       BASKAHEGAN.L  0.790   5   417  6944  22.0  2.0  0.0  123.0  0.57  2.0   \n",
              "\n",
              "    11  12  13  14  15  16  17  \n",
              "0  1.0  44  57  44  68   5   7  \n",
              "1  1.0  45  37  50  69  12  30  \n",
              "2  0.0  44  25  13  70  19  22  \n",
              "3  0.0  43  37   0  70  59   4  \n",
              "4  1.0  45  30  32  67  50   2  "
            ],
            "text/html": [
              "\n",
              "  <div id=\"df-a559a026-021e-4d5e-8310-6b3e8deaa017\">\n",
              "    <div class=\"colab-df-container\">\n",
              "      <div>\n",
              "<style scoped>\n",
              "    .dataframe tbody tr th:only-of-type {\n",
              "        vertical-align: middle;\n",
              "    }\n",
              "\n",
              "    .dataframe tbody tr th {\n",
              "        vertical-align: top;\n",
              "    }\n",
              "\n",
              "    .dataframe thead th {\n",
              "        text-align: right;\n",
              "    }\n",
              "</style>\n",
              "<table border=\"1\" class=\"dataframe\">\n",
              "  <thead>\n",
              "    <tr style=\"text-align: right;\">\n",
              "      <th></th>\n",
              "      <th>0</th>\n",
              "      <th>1</th>\n",
              "      <th>2</th>\n",
              "      <th>3</th>\n",
              "      <th>4</th>\n",
              "      <th>5</th>\n",
              "      <th>6</th>\n",
              "      <th>7</th>\n",
              "      <th>8</th>\n",
              "      <th>9</th>\n",
              "      <th>10</th>\n",
              "      <th>11</th>\n",
              "      <th>12</th>\n",
              "      <th>13</th>\n",
              "      <th>14</th>\n",
              "      <th>15</th>\n",
              "      <th>16</th>\n",
              "      <th>17</th>\n",
              "    </tr>\n",
              "  </thead>\n",
              "  <tbody>\n",
              "    <tr>\n",
              "      <th>0</th>\n",
              "      <td>ALLEN.P</td>\n",
              "      <td>1.080</td>\n",
              "      <td>3</td>\n",
              "      <td>425</td>\n",
              "      <td>83</td>\n",
              "      <td>27.0</td>\n",
              "      <td>3.0</td>\n",
              "      <td>1.0</td>\n",
              "      <td>2.0</td>\n",
              "      <td>0.60</td>\n",
              "      <td>2.8</td>\n",
              "      <td>1.0</td>\n",
              "      <td>44</td>\n",
              "      <td>57</td>\n",
              "      <td>44</td>\n",
              "      <td>68</td>\n",
              "      <td>5</td>\n",
              "      <td>7</td>\n",
              "    </tr>\n",
              "    <tr>\n",
              "      <th>1</th>\n",
              "      <td>ALLIGATOR.P</td>\n",
              "      <td>0.025</td>\n",
              "      <td>2</td>\n",
              "      <td>1494</td>\n",
              "      <td>47</td>\n",
              "      <td>26.0</td>\n",
              "      <td>2.0</td>\n",
              "      <td>0.0</td>\n",
              "      <td>1.0</td>\n",
              "      <td>0.69</td>\n",
              "      <td>0.8</td>\n",
              "      <td>1.0</td>\n",
              "      <td>45</td>\n",
              "      <td>37</td>\n",
              "      <td>50</td>\n",
              "      <td>69</td>\n",
              "      <td>12</td>\n",
              "      <td>30</td>\n",
              "    </tr>\n",
              "    <tr>\n",
              "      <th>2</th>\n",
              "      <td>ANASAGUNTICOOK.L</td>\n",
              "      <td>0.570</td>\n",
              "      <td>5</td>\n",
              "      <td>402</td>\n",
              "      <td>568</td>\n",
              "      <td>54.0</td>\n",
              "      <td>2.0</td>\n",
              "      <td>1.0</td>\n",
              "      <td>15.0</td>\n",
              "      <td>0.56</td>\n",
              "      <td>1.1</td>\n",
              "      <td>0.0</td>\n",
              "      <td>44</td>\n",
              "      <td>25</td>\n",
              "      <td>13</td>\n",
              "      <td>70</td>\n",
              "      <td>19</td>\n",
              "      <td>22</td>\n",
              "    </tr>\n",
              "    <tr>\n",
              "      <th>3</th>\n",
              "      <td>BALCH&amp;STUMP.PONDS</td>\n",
              "      <td>0.770</td>\n",
              "      <td>5</td>\n",
              "      <td>557</td>\n",
              "      <td>704</td>\n",
              "      <td>44.0</td>\n",
              "      <td>2.0</td>\n",
              "      <td>1.0</td>\n",
              "      <td>14.0</td>\n",
              "      <td>0.58</td>\n",
              "      <td>2.7</td>\n",
              "      <td>0.0</td>\n",
              "      <td>43</td>\n",
              "      <td>37</td>\n",
              "      <td>0</td>\n",
              "      <td>70</td>\n",
              "      <td>59</td>\n",
              "      <td>4</td>\n",
              "    </tr>\n",
              "    <tr>\n",
              "      <th>4</th>\n",
              "      <td>BASKAHEGAN.L</td>\n",
              "      <td>0.790</td>\n",
              "      <td>5</td>\n",
              "      <td>417</td>\n",
              "      <td>6944</td>\n",
              "      <td>22.0</td>\n",
              "      <td>2.0</td>\n",
              "      <td>0.0</td>\n",
              "      <td>123.0</td>\n",
              "      <td>0.57</td>\n",
              "      <td>2.0</td>\n",
              "      <td>1.0</td>\n",
              "      <td>45</td>\n",
              "      <td>30</td>\n",
              "      <td>32</td>\n",
              "      <td>67</td>\n",
              "      <td>50</td>\n",
              "      <td>2</td>\n",
              "    </tr>\n",
              "  </tbody>\n",
              "</table>\n",
              "</div>\n",
              "      <button class=\"colab-df-convert\" onclick=\"convertToInteractive('df-a559a026-021e-4d5e-8310-6b3e8deaa017')\"\n",
              "              title=\"Convert this dataframe to an interactive table.\"\n",
              "              style=\"display:none;\">\n",
              "        \n",
              "  <svg xmlns=\"http://www.w3.org/2000/svg\" height=\"24px\"viewBox=\"0 0 24 24\"\n",
              "       width=\"24px\">\n",
              "    <path d=\"M0 0h24v24H0V0z\" fill=\"none\"/>\n",
              "    <path d=\"M18.56 5.44l.94 2.06.94-2.06 2.06-.94-2.06-.94-.94-2.06-.94 2.06-2.06.94zm-11 1L8.5 8.5l.94-2.06 2.06-.94-2.06-.94L8.5 2.5l-.94 2.06-2.06.94zm10 10l.94 2.06.94-2.06 2.06-.94-2.06-.94-.94-2.06-.94 2.06-2.06.94z\"/><path d=\"M17.41 7.96l-1.37-1.37c-.4-.4-.92-.59-1.43-.59-.52 0-1.04.2-1.43.59L10.3 9.45l-7.72 7.72c-.78.78-.78 2.05 0 2.83L4 21.41c.39.39.9.59 1.41.59.51 0 1.02-.2 1.41-.59l7.78-7.78 2.81-2.81c.8-.78.8-2.07 0-2.86zM5.41 20L4 18.59l7.72-7.72 1.47 1.35L5.41 20z\"/>\n",
              "  </svg>\n",
              "      </button>\n",
              "      \n",
              "  <style>\n",
              "    .colab-df-container {\n",
              "      display:flex;\n",
              "      flex-wrap:wrap;\n",
              "      gap: 12px;\n",
              "    }\n",
              "\n",
              "    .colab-df-convert {\n",
              "      background-color: #E8F0FE;\n",
              "      border: none;\n",
              "      border-radius: 50%;\n",
              "      cursor: pointer;\n",
              "      display: none;\n",
              "      fill: #1967D2;\n",
              "      height: 32px;\n",
              "      padding: 0 0 0 0;\n",
              "      width: 32px;\n",
              "    }\n",
              "\n",
              "    .colab-df-convert:hover {\n",
              "      background-color: #E2EBFA;\n",
              "      box-shadow: 0px 1px 2px rgba(60, 64, 67, 0.3), 0px 1px 3px 1px rgba(60, 64, 67, 0.15);\n",
              "      fill: #174EA6;\n",
              "    }\n",
              "\n",
              "    [theme=dark] .colab-df-convert {\n",
              "      background-color: #3B4455;\n",
              "      fill: #D2E3FC;\n",
              "    }\n",
              "\n",
              "    [theme=dark] .colab-df-convert:hover {\n",
              "      background-color: #434B5C;\n",
              "      box-shadow: 0px 1px 3px 1px rgba(0, 0, 0, 0.15);\n",
              "      filter: drop-shadow(0px 1px 2px rgba(0, 0, 0, 0.3));\n",
              "      fill: #FFFFFF;\n",
              "    }\n",
              "  </style>\n",
              "\n",
              "      <script>\n",
              "        const buttonEl =\n",
              "          document.querySelector('#df-a559a026-021e-4d5e-8310-6b3e8deaa017 button.colab-df-convert');\n",
              "        buttonEl.style.display =\n",
              "          google.colab.kernel.accessAllowed ? 'block' : 'none';\n",
              "\n",
              "        async function convertToInteractive(key) {\n",
              "          const element = document.querySelector('#df-a559a026-021e-4d5e-8310-6b3e8deaa017');\n",
              "          const dataTable =\n",
              "            await google.colab.kernel.invokeFunction('convertToInteractive',\n",
              "                                                     [key], {});\n",
              "          if (!dataTable) return;\n",
              "\n",
              "          const docLinkHtml = 'Like what you see? Visit the ' +\n",
              "            '<a target=\"_blank\" href=https://colab.research.google.com/notebooks/data_table.ipynb>data table notebook</a>'\n",
              "            + ' to learn more about interactive tables.';\n",
              "          element.innerHTML = '';\n",
              "          dataTable['output_type'] = 'display_data';\n",
              "          await google.colab.output.renderOutput(dataTable, element);\n",
              "          const docLink = document.createElement('div');\n",
              "          docLink.innerHTML = docLinkHtml;\n",
              "          element.appendChild(docLink);\n",
              "        }\n",
              "      </script>\n",
              "    </div>\n",
              "  </div>\n",
              "  "
            ]
          },
          "metadata": {},
          "execution_count": 7
        }
      ]
    },
    {
      "cell_type": "code",
      "source": [
        "#rename Columns\n",
        "data.set_axis(['NAME','HG','N','ELV','SA','Z', 'LT','ST', 'DA', 'RF', 'FR', 'DAM', 'LAT1',\n",
        "             'LAT2', 'LAT3', 'LONG1', 'LONG2', 'LONG3'], axis='columns', inplace=True)\n",
        "data.head(10)  "
      ],
      "metadata": {
        "colab": {
          "base_uri": "https://localhost:8080/",
          "height": 427
        },
        "id": "AaLSccCVpADL",
        "outputId": "f104a229-b1a3-4f19-f897-459381874ecc"
      },
      "execution_count": 27,
      "outputs": [
        {
          "output_type": "execute_result",
          "data": {
            "text/plain": [
              "                NAME     HG  N   ELV    SA     Z   LT   ST     DA    RF    FR  \\\n",
              "0            ALLEN.P  1.080  3   425    83  27.0  3.0  1.0    2.0  0.60   2.8   \n",
              "1        ALLIGATOR.P  0.025  2  1494    47  26.0  2.0  0.0    1.0  0.69   0.8   \n",
              "2   ANASAGUNTICOOK.L  0.570  5   402   568  54.0  2.0  1.0   15.0  0.56   1.1   \n",
              "3  BALCH&STUMP.PONDS  0.770  5   557   704  44.0  2.0  1.0   14.0  0.58   2.7   \n",
              "4       BASKAHEGAN.L  0.790  5   417  6944  22.0  2.0  0.0  123.0  0.57   2.0   \n",
              "5      BAUNEAG.BEG.L  0.750  4   205   200  29.0  2.0  1.0   18.0  0.51   9.6   \n",
              "6           BEAVER.P  0.270  5   397   128   8.0  3.0  0.0    2.0  0.61   7.9   \n",
              "7           BELDEN.P  0.660  3   350    24  30.0  3.0  1.0    1.0   NaN   NaN   \n",
              "8        BEN.ANNIS.P  0.180  5   122    25   9.0  2.0  0.0   10.0  0.51  58.8   \n",
              "9           BOTTLE.L  1.050  5   298   281  42.0  2.0  1.0    8.0  0.48   2.1   \n",
              "\n",
              "   DAM  LAT1  LAT2  LAT3  LONG1  LONG2  LONG3  \n",
              "0  1.0    44    57    44     68      5      7  \n",
              "1  1.0    45    37    50     69     12     30  \n",
              "2  0.0    44    25    13     70     19     22  \n",
              "3  0.0    43    37     0     70     59      4  \n",
              "4  1.0    45    30    32     67     50      2  \n",
              "5  0.0    43    21    46     70     44     23  \n",
              "6  1.0    43    59    47     70     49     26  \n",
              "7  1.0    44    24    48     69     23      8  \n",
              "8  1.0    44    46    25     68     56     35  \n",
              "9  1.0    45    18    36     68      3     17  "
            ],
            "text/html": [
              "\n",
              "  <div id=\"df-8eb165a9-db05-4052-b6ad-0487194e7aac\">\n",
              "    <div class=\"colab-df-container\">\n",
              "      <div>\n",
              "<style scoped>\n",
              "    .dataframe tbody tr th:only-of-type {\n",
              "        vertical-align: middle;\n",
              "    }\n",
              "\n",
              "    .dataframe tbody tr th {\n",
              "        vertical-align: top;\n",
              "    }\n",
              "\n",
              "    .dataframe thead th {\n",
              "        text-align: right;\n",
              "    }\n",
              "</style>\n",
              "<table border=\"1\" class=\"dataframe\">\n",
              "  <thead>\n",
              "    <tr style=\"text-align: right;\">\n",
              "      <th></th>\n",
              "      <th>NAME</th>\n",
              "      <th>HG</th>\n",
              "      <th>N</th>\n",
              "      <th>ELV</th>\n",
              "      <th>SA</th>\n",
              "      <th>Z</th>\n",
              "      <th>LT</th>\n",
              "      <th>ST</th>\n",
              "      <th>DA</th>\n",
              "      <th>RF</th>\n",
              "      <th>FR</th>\n",
              "      <th>DAM</th>\n",
              "      <th>LAT1</th>\n",
              "      <th>LAT2</th>\n",
              "      <th>LAT3</th>\n",
              "      <th>LONG1</th>\n",
              "      <th>LONG2</th>\n",
              "      <th>LONG3</th>\n",
              "    </tr>\n",
              "  </thead>\n",
              "  <tbody>\n",
              "    <tr>\n",
              "      <th>0</th>\n",
              "      <td>ALLEN.P</td>\n",
              "      <td>1.080</td>\n",
              "      <td>3</td>\n",
              "      <td>425</td>\n",
              "      <td>83</td>\n",
              "      <td>27.0</td>\n",
              "      <td>3.0</td>\n",
              "      <td>1.0</td>\n",
              "      <td>2.0</td>\n",
              "      <td>0.60</td>\n",
              "      <td>2.8</td>\n",
              "      <td>1.0</td>\n",
              "      <td>44</td>\n",
              "      <td>57</td>\n",
              "      <td>44</td>\n",
              "      <td>68</td>\n",
              "      <td>5</td>\n",
              "      <td>7</td>\n",
              "    </tr>\n",
              "    <tr>\n",
              "      <th>1</th>\n",
              "      <td>ALLIGATOR.P</td>\n",
              "      <td>0.025</td>\n",
              "      <td>2</td>\n",
              "      <td>1494</td>\n",
              "      <td>47</td>\n",
              "      <td>26.0</td>\n",
              "      <td>2.0</td>\n",
              "      <td>0.0</td>\n",
              "      <td>1.0</td>\n",
              "      <td>0.69</td>\n",
              "      <td>0.8</td>\n",
              "      <td>1.0</td>\n",
              "      <td>45</td>\n",
              "      <td>37</td>\n",
              "      <td>50</td>\n",
              "      <td>69</td>\n",
              "      <td>12</td>\n",
              "      <td>30</td>\n",
              "    </tr>\n",
              "    <tr>\n",
              "      <th>2</th>\n",
              "      <td>ANASAGUNTICOOK.L</td>\n",
              "      <td>0.570</td>\n",
              "      <td>5</td>\n",
              "      <td>402</td>\n",
              "      <td>568</td>\n",
              "      <td>54.0</td>\n",
              "      <td>2.0</td>\n",
              "      <td>1.0</td>\n",
              "      <td>15.0</td>\n",
              "      <td>0.56</td>\n",
              "      <td>1.1</td>\n",
              "      <td>0.0</td>\n",
              "      <td>44</td>\n",
              "      <td>25</td>\n",
              "      <td>13</td>\n",
              "      <td>70</td>\n",
              "      <td>19</td>\n",
              "      <td>22</td>\n",
              "    </tr>\n",
              "    <tr>\n",
              "      <th>3</th>\n",
              "      <td>BALCH&amp;STUMP.PONDS</td>\n",
              "      <td>0.770</td>\n",
              "      <td>5</td>\n",
              "      <td>557</td>\n",
              "      <td>704</td>\n",
              "      <td>44.0</td>\n",
              "      <td>2.0</td>\n",
              "      <td>1.0</td>\n",
              "      <td>14.0</td>\n",
              "      <td>0.58</td>\n",
              "      <td>2.7</td>\n",
              "      <td>0.0</td>\n",
              "      <td>43</td>\n",
              "      <td>37</td>\n",
              "      <td>0</td>\n",
              "      <td>70</td>\n",
              "      <td>59</td>\n",
              "      <td>4</td>\n",
              "    </tr>\n",
              "    <tr>\n",
              "      <th>4</th>\n",
              "      <td>BASKAHEGAN.L</td>\n",
              "      <td>0.790</td>\n",
              "      <td>5</td>\n",
              "      <td>417</td>\n",
              "      <td>6944</td>\n",
              "      <td>22.0</td>\n",
              "      <td>2.0</td>\n",
              "      <td>0.0</td>\n",
              "      <td>123.0</td>\n",
              "      <td>0.57</td>\n",
              "      <td>2.0</td>\n",
              "      <td>1.0</td>\n",
              "      <td>45</td>\n",
              "      <td>30</td>\n",
              "      <td>32</td>\n",
              "      <td>67</td>\n",
              "      <td>50</td>\n",
              "      <td>2</td>\n",
              "    </tr>\n",
              "    <tr>\n",
              "      <th>5</th>\n",
              "      <td>BAUNEAG.BEG.L</td>\n",
              "      <td>0.750</td>\n",
              "      <td>4</td>\n",
              "      <td>205</td>\n",
              "      <td>200</td>\n",
              "      <td>29.0</td>\n",
              "      <td>2.0</td>\n",
              "      <td>1.0</td>\n",
              "      <td>18.0</td>\n",
              "      <td>0.51</td>\n",
              "      <td>9.6</td>\n",
              "      <td>0.0</td>\n",
              "      <td>43</td>\n",
              "      <td>21</td>\n",
              "      <td>46</td>\n",
              "      <td>70</td>\n",
              "      <td>44</td>\n",
              "      <td>23</td>\n",
              "    </tr>\n",
              "    <tr>\n",
              "      <th>6</th>\n",
              "      <td>BEAVER.P</td>\n",
              "      <td>0.270</td>\n",
              "      <td>5</td>\n",
              "      <td>397</td>\n",
              "      <td>128</td>\n",
              "      <td>8.0</td>\n",
              "      <td>3.0</td>\n",
              "      <td>0.0</td>\n",
              "      <td>2.0</td>\n",
              "      <td>0.61</td>\n",
              "      <td>7.9</td>\n",
              "      <td>1.0</td>\n",
              "      <td>43</td>\n",
              "      <td>59</td>\n",
              "      <td>47</td>\n",
              "      <td>70</td>\n",
              "      <td>49</td>\n",
              "      <td>26</td>\n",
              "    </tr>\n",
              "    <tr>\n",
              "      <th>7</th>\n",
              "      <td>BELDEN.P</td>\n",
              "      <td>0.660</td>\n",
              "      <td>3</td>\n",
              "      <td>350</td>\n",
              "      <td>24</td>\n",
              "      <td>30.0</td>\n",
              "      <td>3.0</td>\n",
              "      <td>1.0</td>\n",
              "      <td>1.0</td>\n",
              "      <td>NaN</td>\n",
              "      <td>NaN</td>\n",
              "      <td>1.0</td>\n",
              "      <td>44</td>\n",
              "      <td>24</td>\n",
              "      <td>48</td>\n",
              "      <td>69</td>\n",
              "      <td>23</td>\n",
              "      <td>8</td>\n",
              "    </tr>\n",
              "    <tr>\n",
              "      <th>8</th>\n",
              "      <td>BEN.ANNIS.P</td>\n",
              "      <td>0.180</td>\n",
              "      <td>5</td>\n",
              "      <td>122</td>\n",
              "      <td>25</td>\n",
              "      <td>9.0</td>\n",
              "      <td>2.0</td>\n",
              "      <td>0.0</td>\n",
              "      <td>10.0</td>\n",
              "      <td>0.51</td>\n",
              "      <td>58.8</td>\n",
              "      <td>1.0</td>\n",
              "      <td>44</td>\n",
              "      <td>46</td>\n",
              "      <td>25</td>\n",
              "      <td>68</td>\n",
              "      <td>56</td>\n",
              "      <td>35</td>\n",
              "    </tr>\n",
              "    <tr>\n",
              "      <th>9</th>\n",
              "      <td>BOTTLE.L</td>\n",
              "      <td>1.050</td>\n",
              "      <td>5</td>\n",
              "      <td>298</td>\n",
              "      <td>281</td>\n",
              "      <td>42.0</td>\n",
              "      <td>2.0</td>\n",
              "      <td>1.0</td>\n",
              "      <td>8.0</td>\n",
              "      <td>0.48</td>\n",
              "      <td>2.1</td>\n",
              "      <td>1.0</td>\n",
              "      <td>45</td>\n",
              "      <td>18</td>\n",
              "      <td>36</td>\n",
              "      <td>68</td>\n",
              "      <td>3</td>\n",
              "      <td>17</td>\n",
              "    </tr>\n",
              "  </tbody>\n",
              "</table>\n",
              "</div>\n",
              "      <button class=\"colab-df-convert\" onclick=\"convertToInteractive('df-8eb165a9-db05-4052-b6ad-0487194e7aac')\"\n",
              "              title=\"Convert this dataframe to an interactive table.\"\n",
              "              style=\"display:none;\">\n",
              "        \n",
              "  <svg xmlns=\"http://www.w3.org/2000/svg\" height=\"24px\"viewBox=\"0 0 24 24\"\n",
              "       width=\"24px\">\n",
              "    <path d=\"M0 0h24v24H0V0z\" fill=\"none\"/>\n",
              "    <path d=\"M18.56 5.44l.94 2.06.94-2.06 2.06-.94-2.06-.94-.94-2.06-.94 2.06-2.06.94zm-11 1L8.5 8.5l.94-2.06 2.06-.94-2.06-.94L8.5 2.5l-.94 2.06-2.06.94zm10 10l.94 2.06.94-2.06 2.06-.94-2.06-.94-.94-2.06-.94 2.06-2.06.94z\"/><path d=\"M17.41 7.96l-1.37-1.37c-.4-.4-.92-.59-1.43-.59-.52 0-1.04.2-1.43.59L10.3 9.45l-7.72 7.72c-.78.78-.78 2.05 0 2.83L4 21.41c.39.39.9.59 1.41.59.51 0 1.02-.2 1.41-.59l7.78-7.78 2.81-2.81c.8-.78.8-2.07 0-2.86zM5.41 20L4 18.59l7.72-7.72 1.47 1.35L5.41 20z\"/>\n",
              "  </svg>\n",
              "      </button>\n",
              "      \n",
              "  <style>\n",
              "    .colab-df-container {\n",
              "      display:flex;\n",
              "      flex-wrap:wrap;\n",
              "      gap: 12px;\n",
              "    }\n",
              "\n",
              "    .colab-df-convert {\n",
              "      background-color: #E8F0FE;\n",
              "      border: none;\n",
              "      border-radius: 50%;\n",
              "      cursor: pointer;\n",
              "      display: none;\n",
              "      fill: #1967D2;\n",
              "      height: 32px;\n",
              "      padding: 0 0 0 0;\n",
              "      width: 32px;\n",
              "    }\n",
              "\n",
              "    .colab-df-convert:hover {\n",
              "      background-color: #E2EBFA;\n",
              "      box-shadow: 0px 1px 2px rgba(60, 64, 67, 0.3), 0px 1px 3px 1px rgba(60, 64, 67, 0.15);\n",
              "      fill: #174EA6;\n",
              "    }\n",
              "\n",
              "    [theme=dark] .colab-df-convert {\n",
              "      background-color: #3B4455;\n",
              "      fill: #D2E3FC;\n",
              "    }\n",
              "\n",
              "    [theme=dark] .colab-df-convert:hover {\n",
              "      background-color: #434B5C;\n",
              "      box-shadow: 0px 1px 3px 1px rgba(0, 0, 0, 0.15);\n",
              "      filter: drop-shadow(0px 1px 2px rgba(0, 0, 0, 0.3));\n",
              "      fill: #FFFFFF;\n",
              "    }\n",
              "  </style>\n",
              "\n",
              "      <script>\n",
              "        const buttonEl =\n",
              "          document.querySelector('#df-8eb165a9-db05-4052-b6ad-0487194e7aac button.colab-df-convert');\n",
              "        buttonEl.style.display =\n",
              "          google.colab.kernel.accessAllowed ? 'block' : 'none';\n",
              "\n",
              "        async function convertToInteractive(key) {\n",
              "          const element = document.querySelector('#df-8eb165a9-db05-4052-b6ad-0487194e7aac');\n",
              "          const dataTable =\n",
              "            await google.colab.kernel.invokeFunction('convertToInteractive',\n",
              "                                                     [key], {});\n",
              "          if (!dataTable) return;\n",
              "\n",
              "          const docLinkHtml = 'Like what you see? Visit the ' +\n",
              "            '<a target=\"_blank\" href=https://colab.research.google.com/notebooks/data_table.ipynb>data table notebook</a>'\n",
              "            + ' to learn more about interactive tables.';\n",
              "          element.innerHTML = '';\n",
              "          dataTable['output_type'] = 'display_data';\n",
              "          await google.colab.output.renderOutput(dataTable, element);\n",
              "          const docLink = document.createElement('div');\n",
              "          docLink.innerHTML = docLinkHtml;\n",
              "          element.appendChild(docLink);\n",
              "        }\n",
              "      </script>\n",
              "    </div>\n",
              "  </div>\n",
              "  "
            ]
          },
          "metadata": {},
          "execution_count": 27
        }
      ]
    },
    {
      "cell_type": "code",
      "source": [
        "#dealing with NA Value\n",
        "data.isnull().sum()"
      ],
      "metadata": {
        "colab": {
          "base_uri": "https://localhost:8080/"
        },
        "id": "6yYSAkTrr5Oh",
        "outputId": "3ffb8424-4c86-43b6-da2a-5cbdd15bff81"
      },
      "execution_count": 33,
      "outputs": [
        {
          "output_type": "execute_result",
          "data": {
            "text/plain": [
              "NAME     0\n",
              "HG       0\n",
              "N        0\n",
              "ELV      0\n",
              "SA       0\n",
              "Z        1\n",
              "LT       1\n",
              "ST       2\n",
              "DA       3\n",
              "RF       7\n",
              "FR       7\n",
              "DAM      2\n",
              "LAT1     0\n",
              "LAT2     0\n",
              "LAT3     0\n",
              "LONG1    0\n",
              "LONG2    0\n",
              "LONG3    0\n",
              "dtype: int64"
            ]
          },
          "metadata": {},
          "execution_count": 33
        }
      ]
    },
    {
      "cell_type": "code",
      "source": [
        "index_LT_Nah = data.loc[data.LT.isnull()]\n",
        "index_LT_Nah.index"
      ],
      "metadata": {
        "colab": {
          "base_uri": "https://localhost:8080/"
        },
        "id": "trvNe4UQAeVQ",
        "outputId": "8f7c9c6d-0d28-4faf-a1cb-1579082a1197"
      },
      "execution_count": 49,
      "outputs": [
        {
          "output_type": "execute_result",
          "data": {
            "text/plain": [
              "Int64Index([99], dtype='int64')"
            ]
          },
          "metadata": {},
          "execution_count": 49
        }
      ]
    },
    {
      "cell_type": "markdown",
      "source": [
        "Since we are interested in which type of lake have the highest mercury levels, the type of lake variable is important, we have to drop all of those row of data that contain the \"LT\" as \"Nah\""
      ],
      "metadata": {
        "id": "ocYk2kitB8Va"
      }
    },
    {
      "cell_type": "code",
      "source": [
        "#drop data \n",
        "data = data.drop(labels=index_LT_Nah.index, axis=0)"
      ],
      "metadata": {
        "id": "1q8KM5PMCVYk"
      },
      "execution_count": 50,
      "outputs": []
    },
    {
      "cell_type": "code",
      "source": [
        "#check whether the 99th is dropped\n",
        "data[98:100]"
      ],
      "metadata": {
        "colab": {
          "base_uri": "https://localhost:8080/",
          "height": 176
        },
        "id": "nomtnxqADFa0",
        "outputId": "03abbe8d-97d5-4c01-a4f0-d1b2e5a23df8"
      },
      "execution_count": 53,
      "outputs": [
        {
          "output_type": "execute_result",
          "data": {
            "text/plain": [
              "                   NAME    HG  N   ELV   SA     Z   LT   ST     DA    RF  \\\n",
              "98   SANDY.RIVER.P(MID)  0.37  5  1700   70  58.0  3.0  1.0    4.0  0.56   \n",
              "100          SENNEBEC.P  0.41  3    87  532  57.0  3.0  1.0  106.0  0.60   \n",
              "\n",
              "       FR  DAM  LAT1  LAT2  LAT3  LONG1  LONG2  LONG3  \n",
              "98    3.8  1.0    44    53    52     70     33     16  \n",
              "100  14.2  0.0    44    15    26     69     15     59  "
            ],
            "text/html": [
              "\n",
              "  <div id=\"df-05c2cebc-a411-4930-b494-9d52005f9943\">\n",
              "    <div class=\"colab-df-container\">\n",
              "      <div>\n",
              "<style scoped>\n",
              "    .dataframe tbody tr th:only-of-type {\n",
              "        vertical-align: middle;\n",
              "    }\n",
              "\n",
              "    .dataframe tbody tr th {\n",
              "        vertical-align: top;\n",
              "    }\n",
              "\n",
              "    .dataframe thead th {\n",
              "        text-align: right;\n",
              "    }\n",
              "</style>\n",
              "<table border=\"1\" class=\"dataframe\">\n",
              "  <thead>\n",
              "    <tr style=\"text-align: right;\">\n",
              "      <th></th>\n",
              "      <th>NAME</th>\n",
              "      <th>HG</th>\n",
              "      <th>N</th>\n",
              "      <th>ELV</th>\n",
              "      <th>SA</th>\n",
              "      <th>Z</th>\n",
              "      <th>LT</th>\n",
              "      <th>ST</th>\n",
              "      <th>DA</th>\n",
              "      <th>RF</th>\n",
              "      <th>FR</th>\n",
              "      <th>DAM</th>\n",
              "      <th>LAT1</th>\n",
              "      <th>LAT2</th>\n",
              "      <th>LAT3</th>\n",
              "      <th>LONG1</th>\n",
              "      <th>LONG2</th>\n",
              "      <th>LONG3</th>\n",
              "    </tr>\n",
              "  </thead>\n",
              "  <tbody>\n",
              "    <tr>\n",
              "      <th>98</th>\n",
              "      <td>SANDY.RIVER.P(MID)</td>\n",
              "      <td>0.37</td>\n",
              "      <td>5</td>\n",
              "      <td>1700</td>\n",
              "      <td>70</td>\n",
              "      <td>58.0</td>\n",
              "      <td>3.0</td>\n",
              "      <td>1.0</td>\n",
              "      <td>4.0</td>\n",
              "      <td>0.56</td>\n",
              "      <td>3.8</td>\n",
              "      <td>1.0</td>\n",
              "      <td>44</td>\n",
              "      <td>53</td>\n",
              "      <td>52</td>\n",
              "      <td>70</td>\n",
              "      <td>33</td>\n",
              "      <td>16</td>\n",
              "    </tr>\n",
              "    <tr>\n",
              "      <th>100</th>\n",
              "      <td>SENNEBEC.P</td>\n",
              "      <td>0.41</td>\n",
              "      <td>3</td>\n",
              "      <td>87</td>\n",
              "      <td>532</td>\n",
              "      <td>57.0</td>\n",
              "      <td>3.0</td>\n",
              "      <td>1.0</td>\n",
              "      <td>106.0</td>\n",
              "      <td>0.60</td>\n",
              "      <td>14.2</td>\n",
              "      <td>0.0</td>\n",
              "      <td>44</td>\n",
              "      <td>15</td>\n",
              "      <td>26</td>\n",
              "      <td>69</td>\n",
              "      <td>15</td>\n",
              "      <td>59</td>\n",
              "    </tr>\n",
              "  </tbody>\n",
              "</table>\n",
              "</div>\n",
              "      <button class=\"colab-df-convert\" onclick=\"convertToInteractive('df-05c2cebc-a411-4930-b494-9d52005f9943')\"\n",
              "              title=\"Convert this dataframe to an interactive table.\"\n",
              "              style=\"display:none;\">\n",
              "        \n",
              "  <svg xmlns=\"http://www.w3.org/2000/svg\" height=\"24px\"viewBox=\"0 0 24 24\"\n",
              "       width=\"24px\">\n",
              "    <path d=\"M0 0h24v24H0V0z\" fill=\"none\"/>\n",
              "    <path d=\"M18.56 5.44l.94 2.06.94-2.06 2.06-.94-2.06-.94-.94-2.06-.94 2.06-2.06.94zm-11 1L8.5 8.5l.94-2.06 2.06-.94-2.06-.94L8.5 2.5l-.94 2.06-2.06.94zm10 10l.94 2.06.94-2.06 2.06-.94-2.06-.94-.94-2.06-.94 2.06-2.06.94z\"/><path d=\"M17.41 7.96l-1.37-1.37c-.4-.4-.92-.59-1.43-.59-.52 0-1.04.2-1.43.59L10.3 9.45l-7.72 7.72c-.78.78-.78 2.05 0 2.83L4 21.41c.39.39.9.59 1.41.59.51 0 1.02-.2 1.41-.59l7.78-7.78 2.81-2.81c.8-.78.8-2.07 0-2.86zM5.41 20L4 18.59l7.72-7.72 1.47 1.35L5.41 20z\"/>\n",
              "  </svg>\n",
              "      </button>\n",
              "      \n",
              "  <style>\n",
              "    .colab-df-container {\n",
              "      display:flex;\n",
              "      flex-wrap:wrap;\n",
              "      gap: 12px;\n",
              "    }\n",
              "\n",
              "    .colab-df-convert {\n",
              "      background-color: #E8F0FE;\n",
              "      border: none;\n",
              "      border-radius: 50%;\n",
              "      cursor: pointer;\n",
              "      display: none;\n",
              "      fill: #1967D2;\n",
              "      height: 32px;\n",
              "      padding: 0 0 0 0;\n",
              "      width: 32px;\n",
              "    }\n",
              "\n",
              "    .colab-df-convert:hover {\n",
              "      background-color: #E2EBFA;\n",
              "      box-shadow: 0px 1px 2px rgba(60, 64, 67, 0.3), 0px 1px 3px 1px rgba(60, 64, 67, 0.15);\n",
              "      fill: #174EA6;\n",
              "    }\n",
              "\n",
              "    [theme=dark] .colab-df-convert {\n",
              "      background-color: #3B4455;\n",
              "      fill: #D2E3FC;\n",
              "    }\n",
              "\n",
              "    [theme=dark] .colab-df-convert:hover {\n",
              "      background-color: #434B5C;\n",
              "      box-shadow: 0px 1px 3px 1px rgba(0, 0, 0, 0.15);\n",
              "      filter: drop-shadow(0px 1px 2px rgba(0, 0, 0, 0.3));\n",
              "      fill: #FFFFFF;\n",
              "    }\n",
              "  </style>\n",
              "\n",
              "      <script>\n",
              "        const buttonEl =\n",
              "          document.querySelector('#df-05c2cebc-a411-4930-b494-9d52005f9943 button.colab-df-convert');\n",
              "        buttonEl.style.display =\n",
              "          google.colab.kernel.accessAllowed ? 'block' : 'none';\n",
              "\n",
              "        async function convertToInteractive(key) {\n",
              "          const element = document.querySelector('#df-05c2cebc-a411-4930-b494-9d52005f9943');\n",
              "          const dataTable =\n",
              "            await google.colab.kernel.invokeFunction('convertToInteractive',\n",
              "                                                     [key], {});\n",
              "          if (!dataTable) return;\n",
              "\n",
              "          const docLinkHtml = 'Like what you see? Visit the ' +\n",
              "            '<a target=\"_blank\" href=https://colab.research.google.com/notebooks/data_table.ipynb>data table notebook</a>'\n",
              "            + ' to learn more about interactive tables.';\n",
              "          element.innerHTML = '';\n",
              "          dataTable['output_type'] = 'display_data';\n",
              "          await google.colab.output.renderOutput(dataTable, element);\n",
              "          const docLink = document.createElement('div');\n",
              "          docLink.innerHTML = docLinkHtml;\n",
              "          element.appendChild(docLink);\n",
              "        }\n",
              "      </script>\n",
              "    </div>\n",
              "  </div>\n",
              "  "
            ]
          },
          "metadata": {},
          "execution_count": 53
        }
      ]
    },
    {
      "cell_type": "markdown",
      "source": [
        "Since the human infrastructure such as dam, and water flow are potential factor that affect the mercury levels, therefore, the variable \"DAM\" and \"FR\" that has Nah need to be drop, to avoid the inaccuracy of the data."
      ],
      "metadata": {
        "id": "4aKVBa5tEu3G"
      }
    },
    {
      "cell_type": "code",
      "source": [
        "# dealing with DAM and FR\n",
        "index_FR_Nah = data.loc[data.FR.isnull()]\n",
        "index_DAM_Nah = data.loc[data.DAM.isnull()]"
      ],
      "metadata": {
        "id": "ipX1e-cBFqR2"
      },
      "execution_count": 54,
      "outputs": []
    },
    {
      "cell_type": "code",
      "source": [
        "data = data.drop(labels=(index_FR_Nah.index), axis=0)"
      ],
      "metadata": {
        "id": "JbGmpYsLHLVM"
      },
      "execution_count": 59,
      "outputs": []
    },
    {
      "cell_type": "code",
      "source": [
        "data = data.drop(labels=(index_DAM_Nah.index), axis=0)"
      ],
      "metadata": {
        "id": "veQp10GcHg7n"
      },
      "execution_count": 60,
      "outputs": []
    },
    {
      "cell_type": "code",
      "source": [
        "data.isnull().sum()\n"
      ],
      "metadata": {
        "colab": {
          "base_uri": "https://localhost:8080/"
        },
        "id": "FHmGu4zsHicb",
        "outputId": "a6d8e267-d112-46b9-fbfb-bee54810d9ba"
      },
      "execution_count": 63,
      "outputs": [
        {
          "output_type": "execute_result",
          "data": {
            "text/plain": [
              "NAME     0\n",
              "HG       0\n",
              "N        0\n",
              "ELV      0\n",
              "SA       0\n",
              "Z        0\n",
              "LT       0\n",
              "ST       1\n",
              "DA       2\n",
              "RF       0\n",
              "FR       0\n",
              "DAM      0\n",
              "LAT1     0\n",
              "LAT2     0\n",
              "LAT3     0\n",
              "LONG1    0\n",
              "LONG2    0\n",
              "LONG3    0\n",
              "dtype: int64"
            ]
          },
          "metadata": {},
          "execution_count": 63
        }
      ]
    },
    {
      "cell_type": "markdown",
      "source": [
        "Although the drainage area is draw attention, but it is a categorial data, in which we cannot simply assgin a value such as average or 0 to it. It has to be droppped."
      ],
      "metadata": {
        "id": "CnEju9CnI-c2"
      }
    },
    {
      "cell_type": "code",
      "source": [
        "index_ST_Nah = data.loc[data.ST.isnull()]\n",
        "data = data.drop(labels=(index_ST_Nah.index), axis=0)"
      ],
      "metadata": {
        "id": "czWhZalvJQCO"
      },
      "execution_count": 64,
      "outputs": []
    },
    {
      "cell_type": "code",
      "source": [
        "#make sure deleted\n",
        "data.shape"
      ],
      "metadata": {
        "colab": {
          "base_uri": "https://localhost:8080/"
        },
        "id": "4cZXpCGkJZO-",
        "outputId": "279db87a-c1f8-4d39-f4ac-dac8a4f640e8"
      },
      "execution_count": 65,
      "outputs": [
        {
          "output_type": "execute_result",
          "data": {
            "text/plain": [
              "(111, 18)"
            ]
          },
          "metadata": {},
          "execution_count": 65
        }
      ]
    },
    {
      "cell_type": "code",
      "source": [
        "data.isnull().sum()"
      ],
      "metadata": {
        "colab": {
          "base_uri": "https://localhost:8080/"
        },
        "id": "VAQMZ3EAJcEz",
        "outputId": "6177f8ad-0041-434c-aaa2-0059963142f7"
      },
      "execution_count": 66,
      "outputs": [
        {
          "output_type": "execute_result",
          "data": {
            "text/plain": [
              "NAME     0\n",
              "HG       0\n",
              "N        0\n",
              "ELV      0\n",
              "SA       0\n",
              "Z        0\n",
              "LT       0\n",
              "ST       0\n",
              "DA       1\n",
              "RF       0\n",
              "FR       0\n",
              "DAM      0\n",
              "LAT1     0\n",
              "LAT2     0\n",
              "LAT3     0\n",
              "LONG1    0\n",
              "LONG2    0\n",
              "LONG3    0\n",
              "dtype: int64"
            ]
          },
          "metadata": {},
          "execution_count": 66
        }
      ]
    },
    {
      "cell_type": "markdown",
      "source": [
        "The drainage also has a \"Nah\" value, We can use the average to replace it, so is will not influence tha entire data, to avoid lose too many row of data."
      ],
      "metadata": {
        "id": "_ETqav8jJpC0"
      }
    },
    {
      "cell_type": "code",
      "source": [
        "avg_DA = np.mean(data.DA)\n",
        "index_DA_Nah = data.loc[data.DA.isnull()]\n",
        "\n",
        "data.DA = data.DA.fillna(avg_DA)"
      ],
      "metadata": {
        "id": "fDxfYeNvJj-0"
      },
      "execution_count": 72,
      "outputs": []
    },
    {
      "cell_type": "code",
      "source": [
        "avg_DA"
      ],
      "metadata": {
        "colab": {
          "base_uri": "https://localhost:8080/"
        },
        "id": "wH3uHqGDLlin",
        "outputId": "3ce047f8-2537-4df1-873c-82d0b2406d0d"
      },
      "execution_count": 76,
      "outputs": [
        {
          "output_type": "execute_result",
          "data": {
            "text/plain": [
              "44.59090909090909"
            ]
          },
          "metadata": {},
          "execution_count": 76
        }
      ]
    },
    {
      "cell_type": "code",
      "source": [
        "data.isnull().sum()"
      ],
      "metadata": {
        "colab": {
          "base_uri": "https://localhost:8080/"
        },
        "id": "JvXlVs99LWhc",
        "outputId": "1a85b75c-759f-4bff-ab71-7bdbb9d0e40d"
      },
      "execution_count": 80,
      "outputs": [
        {
          "output_type": "execute_result",
          "data": {
            "text/plain": [
              "NAME     0\n",
              "HG       0\n",
              "N        0\n",
              "ELV      0\n",
              "SA       0\n",
              "Z        0\n",
              "LT       0\n",
              "ST       0\n",
              "DA       0\n",
              "RF       0\n",
              "FR       0\n",
              "DAM      0\n",
              "LAT1     0\n",
              "LAT2     0\n",
              "LAT3     0\n",
              "LONG1    0\n",
              "LONG2    0\n",
              "LONG3    0\n",
              "dtype: int64"
            ]
          },
          "metadata": {},
          "execution_count": 80
        }
      ]
    },
    {
      "cell_type": "markdown",
      "source": [
        "Now the data is clean, the pre-processing procedure is done\n"
      ],
      "metadata": {
        "id": "SEbjLynQL7Az"
      }
    },
    {
      "cell_type": "code",
      "source": [
        "from google.colab import files\n",
        "\n",
        "data.to_csv('after_clean.csv', encoding = 'utf-8-sig') \n",
        "files.download('after_clean.csv')"
      ],
      "metadata": {
        "colab": {
          "base_uri": "https://localhost:8080/",
          "height": 17
        },
        "id": "gAU0ZyV_MKOr",
        "outputId": "14e52d80-360a-4c70-f49b-91e4dc16ae27"
      },
      "execution_count": 82,
      "outputs": [
        {
          "output_type": "display_data",
          "data": {
            "text/plain": [
              "<IPython.core.display.Javascript object>"
            ],
            "application/javascript": [
              "\n",
              "    async function download(id, filename, size) {\n",
              "      if (!google.colab.kernel.accessAllowed) {\n",
              "        return;\n",
              "      }\n",
              "      const div = document.createElement('div');\n",
              "      const label = document.createElement('label');\n",
              "      label.textContent = `Downloading \"${filename}\": `;\n",
              "      div.appendChild(label);\n",
              "      const progress = document.createElement('progress');\n",
              "      progress.max = size;\n",
              "      div.appendChild(progress);\n",
              "      document.body.appendChild(div);\n",
              "\n",
              "      const buffers = [];\n",
              "      let downloaded = 0;\n",
              "\n",
              "      const channel = await google.colab.kernel.comms.open(id);\n",
              "      // Send a message to notify the kernel that we're ready.\n",
              "      channel.send({})\n",
              "\n",
              "      for await (const message of channel.messages) {\n",
              "        // Send a message to notify the kernel that we're ready.\n",
              "        channel.send({})\n",
              "        if (message.buffers) {\n",
              "          for (const buffer of message.buffers) {\n",
              "            buffers.push(buffer);\n",
              "            downloaded += buffer.byteLength;\n",
              "            progress.value = downloaded;\n",
              "          }\n",
              "        }\n",
              "      }\n",
              "      const blob = new Blob(buffers, {type: 'application/binary'});\n",
              "      const a = document.createElement('a');\n",
              "      a.href = window.URL.createObjectURL(blob);\n",
              "      a.download = filename;\n",
              "      div.appendChild(a);\n",
              "      a.click();\n",
              "      div.remove();\n",
              "    }\n",
              "  "
            ]
          },
          "metadata": {}
        },
        {
          "output_type": "display_data",
          "data": {
            "text/plain": [
              "<IPython.core.display.Javascript object>"
            ],
            "application/javascript": [
              "download(\"download_08a54a2d-2970-4938-879b-00b9f4192dbe\", \"after_clean.csv\", 8724)"
            ]
          },
          "metadata": {}
        }
      ]
    }
  ]
}